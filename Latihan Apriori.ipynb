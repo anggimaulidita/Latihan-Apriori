{
 "cells": [
  {
   "cell_type": "code",
   "execution_count": 1,
   "id": "4288e3ea",
   "metadata": {},
   "outputs": [],
   "source": [
    "import numpy as np\n",
    "import pandas as pd\n",
    "from apyori import apriori"
   ]
  },
  {
   "cell_type": "code",
   "execution_count": 2,
   "id": "2d939660",
   "metadata": {},
   "outputs": [],
   "source": [
    "store_data = pd.read_excel('E:\\KULIAH\\Semester 6\\DATA MINING\\data.xls')"
   ]
  },
  {
   "cell_type": "code",
   "execution_count": 3,
   "id": "a72da360",
   "metadata": {},
   "outputs": [
    {
     "data": {
      "text/html": [
       "<div>\n",
       "<style scoped>\n",
       "    .dataframe tbody tr th:only-of-type {\n",
       "        vertical-align: middle;\n",
       "    }\n",
       "\n",
       "    .dataframe tbody tr th {\n",
       "        vertical-align: top;\n",
       "    }\n",
       "\n",
       "    .dataframe thead th {\n",
       "        text-align: right;\n",
       "    }\n",
       "</style>\n",
       "<table border=\"1\" class=\"dataframe\">\n",
       "  <thead>\n",
       "    <tr style=\"text-align: right;\">\n",
       "      <th></th>\n",
       "      <th>Wine</th>\n",
       "      <th>Chips</th>\n",
       "      <th>Bread</th>\n",
       "      <th>Butter</th>\n",
       "      <th>Milk</th>\n",
       "      <th>Apple</th>\n",
       "    </tr>\n",
       "  </thead>\n",
       "  <tbody>\n",
       "    <tr>\n",
       "      <th>0</th>\n",
       "      <td>Wine</td>\n",
       "      <td>NaN</td>\n",
       "      <td>Bread</td>\n",
       "      <td>Butter</td>\n",
       "      <td>Milk</td>\n",
       "      <td>NaN</td>\n",
       "    </tr>\n",
       "    <tr>\n",
       "      <th>1</th>\n",
       "      <td>NaN</td>\n",
       "      <td>NaN</td>\n",
       "      <td>Bread</td>\n",
       "      <td>Butter</td>\n",
       "      <td>Milk</td>\n",
       "      <td>NaN</td>\n",
       "    </tr>\n",
       "    <tr>\n",
       "      <th>2</th>\n",
       "      <td>NaN</td>\n",
       "      <td>Chips</td>\n",
       "      <td>NaN</td>\n",
       "      <td>NaN</td>\n",
       "      <td>NaN</td>\n",
       "      <td>Apple</td>\n",
       "    </tr>\n",
       "    <tr>\n",
       "      <th>3</th>\n",
       "      <td>Wine</td>\n",
       "      <td>Chips</td>\n",
       "      <td>Bread</td>\n",
       "      <td>Butter</td>\n",
       "      <td>Milk</td>\n",
       "      <td>Apple</td>\n",
       "    </tr>\n",
       "    <tr>\n",
       "      <th>4</th>\n",
       "      <td>Wine</td>\n",
       "      <td>Chips</td>\n",
       "      <td>NaN</td>\n",
       "      <td>NaN</td>\n",
       "      <td>Milk</td>\n",
       "      <td>NaN</td>\n",
       "    </tr>\n",
       "  </tbody>\n",
       "</table>\n",
       "</div>"
      ],
      "text/plain": [
       "   Wine  Chips  Bread  Butter  Milk  Apple\n",
       "0  Wine    NaN  Bread  Butter  Milk    NaN\n",
       "1   NaN    NaN  Bread  Butter  Milk    NaN\n",
       "2   NaN  Chips    NaN     NaN   NaN  Apple\n",
       "3  Wine  Chips  Bread  Butter  Milk  Apple\n",
       "4  Wine  Chips    NaN     NaN  Milk    NaN"
      ]
     },
     "execution_count": 3,
     "metadata": {},
     "output_type": "execute_result"
    }
   ],
   "source": [
    "store_data.head()"
   ]
  },
  {
   "cell_type": "code",
   "execution_count": 4,
   "id": "8970fb5d",
   "metadata": {},
   "outputs": [
    {
     "data": {
      "text/html": [
       "<div>\n",
       "<style scoped>\n",
       "    .dataframe tbody tr th:only-of-type {\n",
       "        vertical-align: middle;\n",
       "    }\n",
       "\n",
       "    .dataframe tbody tr th {\n",
       "        vertical-align: top;\n",
       "    }\n",
       "\n",
       "    .dataframe thead th {\n",
       "        text-align: right;\n",
       "    }\n",
       "</style>\n",
       "<table border=\"1\" class=\"dataframe\">\n",
       "  <thead>\n",
       "    <tr style=\"text-align: right;\">\n",
       "      <th></th>\n",
       "      <th>Wine</th>\n",
       "      <th>Chips</th>\n",
       "      <th>Bread</th>\n",
       "      <th>Butter</th>\n",
       "      <th>Milk</th>\n",
       "      <th>Apple</th>\n",
       "    </tr>\n",
       "  </thead>\n",
       "  <tbody>\n",
       "    <tr>\n",
       "      <th>45</th>\n",
       "      <td>NaN</td>\n",
       "      <td>Chips</td>\n",
       "      <td>NaN</td>\n",
       "      <td>Butter</td>\n",
       "      <td>Milk</td>\n",
       "      <td>Apple</td>\n",
       "    </tr>\n",
       "    <tr>\n",
       "      <th>46</th>\n",
       "      <td>Wine</td>\n",
       "      <td>Chips</td>\n",
       "      <td>Bread</td>\n",
       "      <td>Butter</td>\n",
       "      <td>Milk</td>\n",
       "      <td>Apple</td>\n",
       "    </tr>\n",
       "    <tr>\n",
       "      <th>47</th>\n",
       "      <td>Wine</td>\n",
       "      <td>NaN</td>\n",
       "      <td>Bread</td>\n",
       "      <td>Butter</td>\n",
       "      <td>Milk</td>\n",
       "      <td>Apple</td>\n",
       "    </tr>\n",
       "    <tr>\n",
       "      <th>48</th>\n",
       "      <td>Wine</td>\n",
       "      <td>Chips</td>\n",
       "      <td>Bread</td>\n",
       "      <td>NaN</td>\n",
       "      <td>Milk</td>\n",
       "      <td>Apple</td>\n",
       "    </tr>\n",
       "    <tr>\n",
       "      <th>49</th>\n",
       "      <td>NaN</td>\n",
       "      <td>Chips</td>\n",
       "      <td>NaN</td>\n",
       "      <td>NaN</td>\n",
       "      <td>NaN</td>\n",
       "      <td>NaN</td>\n",
       "    </tr>\n",
       "  </tbody>\n",
       "</table>\n",
       "</div>"
      ],
      "text/plain": [
       "    Wine  Chips  Bread  Butter  Milk  Apple\n",
       "45   NaN  Chips    NaN  Butter  Milk  Apple\n",
       "46  Wine  Chips  Bread  Butter  Milk  Apple\n",
       "47  Wine    NaN  Bread  Butter  Milk  Apple\n",
       "48  Wine  Chips  Bread     NaN  Milk  Apple\n",
       "49   NaN  Chips    NaN     NaN   NaN    NaN"
      ]
     },
     "execution_count": 4,
     "metadata": {},
     "output_type": "execute_result"
    }
   ],
   "source": [
    "store_data.tail()"
   ]
  },
  {
   "cell_type": "code",
   "execution_count": 5,
   "id": "3e55b4d4",
   "metadata": {},
   "outputs": [
    {
     "data": {
      "text/plain": [
       "(50, 6)"
      ]
     },
     "execution_count": 5,
     "metadata": {},
     "output_type": "execute_result"
    }
   ],
   "source": [
    "store_data.shape"
   ]
  },
  {
   "cell_type": "code",
   "execution_count": 6,
   "id": "6d7da59b",
   "metadata": {},
   "outputs": [],
   "source": [
    "records = []\n",
    "for i in range(0, 50):\n",
    "    records.append([str(store_data.values[i,j])for j in range(0,6)])"
   ]
  },
  {
   "cell_type": "code",
   "execution_count": 7,
   "id": "0ef27ebe",
   "metadata": {},
   "outputs": [],
   "source": [
    "association_rules = apriori(records, min_support=0.5, min_confidence=0.5, min_lift=1.3)\n",
    "association_results = list(association_rules)"
   ]
  },
  {
   "cell_type": "code",
   "execution_count": 17,
   "id": "ca07c6a9",
   "metadata": {},
   "outputs": [
    {
     "name": "stdout",
     "output_type": "stream",
     "text": [
      "15\n"
     ]
    }
   ],
   "source": [
    "print(len(association_results))"
   ]
  },
  {
   "cell_type": "code",
   "execution_count": 9,
   "id": "ec030124",
   "metadata": {},
   "outputs": [
    {
     "name": "stdout",
     "output_type": "stream",
     "text": [
      "RelationRecord(items=frozenset({'Wine', 'Bread', 'Apple'}), support=0.58, ordered_statistics=[OrderedStatistic(items_base=frozenset({'Bread'}), items_add=frozenset({'Wine', 'Apple'}), confidence=0.7435897435897435, lift=1.2393162393162391), OrderedStatistic(items_base=frozenset({'Wine', 'Apple'}), items_add=frozenset({'Bread'}), confidence=0.9666666666666667, lift=1.2393162393162394)])\n"
     ]
    }
   ],
   "source": [
    "print(association_results[0])"
   ]
  },
  {
   "cell_type": "code",
   "execution_count": 10,
   "id": "a7d718dd",
   "metadata": {},
   "outputs": [],
   "source": [
    "results =[]\n",
    "for item in association_results:\n",
    "    pair = item[0]\n",
    "    items = [x for x in pair]\n",
    "    \n",
    "    value0 = str(items[0])\n",
    "    value1 = str(items[1])\n",
    "    value2 = str(item[1])[:6]\n",
    "    value3 = str(item[2][0][2])[:6]\n",
    "    value4 = str(item[2][0][3])[:6]\n"
   ]
  },
  {
   "cell_type": "code",
   "execution_count": 11,
   "id": "d055559f",
   "metadata": {},
   "outputs": [],
   "source": [
    "rows = (value0,value1,value2,value3,value4)"
   ]
  },
  {
   "cell_type": "code",
   "execution_count": 12,
   "id": "63f14ec2",
   "metadata": {},
   "outputs": [],
   "source": [
    "results.append(rows)"
   ]
  },
  {
   "cell_type": "code",
   "execution_count": 13,
   "id": "3d9d763b",
   "metadata": {},
   "outputs": [],
   "source": [
    "label = ['title1', 'title2', 'support', 'confidence','lift']"
   ]
  },
  {
   "cell_type": "code",
   "execution_count": 14,
   "id": "96f60aa9",
   "metadata": {},
   "outputs": [],
   "source": [
    "store_suggestion = pd.DataFrame.from_records(results,columns=label)"
   ]
  },
  {
   "cell_type": "code",
   "execution_count": 15,
   "id": "d06473c4",
   "metadata": {},
   "outputs": [
    {
     "name": "stdout",
     "output_type": "stream",
     "text": [
      "   title1 title2 support confidence    lift\n",
      "0  Butter  Bread    0.22     0.2820  1.2820\n"
     ]
    }
   ],
   "source": [
    "print(store_suggestion)"
   ]
  },
  {
   "cell_type": "code",
   "execution_count": 16,
   "id": "03feffe2",
   "metadata": {},
   "outputs": [
    {
     "data": {
      "text/html": [
       "<div>\n",
       "<style scoped>\n",
       "    .dataframe tbody tr th:only-of-type {\n",
       "        vertical-align: middle;\n",
       "    }\n",
       "\n",
       "    .dataframe tbody tr th {\n",
       "        vertical-align: top;\n",
       "    }\n",
       "\n",
       "    .dataframe thead th {\n",
       "        text-align: right;\n",
       "    }\n",
       "</style>\n",
       "<table border=\"1\" class=\"dataframe\">\n",
       "  <thead>\n",
       "    <tr style=\"text-align: right;\">\n",
       "      <th></th>\n",
       "      <th>title1</th>\n",
       "      <th>title2</th>\n",
       "      <th>support</th>\n",
       "      <th>confidence</th>\n",
       "      <th>lift</th>\n",
       "    </tr>\n",
       "  </thead>\n",
       "  <tbody>\n",
       "    <tr>\n",
       "      <th>count</th>\n",
       "      <td>1</td>\n",
       "      <td>1</td>\n",
       "      <td>1</td>\n",
       "      <td>1</td>\n",
       "      <td>1</td>\n",
       "    </tr>\n",
       "    <tr>\n",
       "      <th>unique</th>\n",
       "      <td>1</td>\n",
       "      <td>1</td>\n",
       "      <td>1</td>\n",
       "      <td>1</td>\n",
       "      <td>1</td>\n",
       "    </tr>\n",
       "    <tr>\n",
       "      <th>top</th>\n",
       "      <td>Butter</td>\n",
       "      <td>Bread</td>\n",
       "      <td>0.22</td>\n",
       "      <td>0.2820</td>\n",
       "      <td>1.2820</td>\n",
       "    </tr>\n",
       "    <tr>\n",
       "      <th>freq</th>\n",
       "      <td>1</td>\n",
       "      <td>1</td>\n",
       "      <td>1</td>\n",
       "      <td>1</td>\n",
       "      <td>1</td>\n",
       "    </tr>\n",
       "  </tbody>\n",
       "</table>\n",
       "</div>"
      ],
      "text/plain": [
       "        title1 title2 support confidence    lift\n",
       "count        1      1       1          1       1\n",
       "unique       1      1       1          1       1\n",
       "top     Butter  Bread    0.22     0.2820  1.2820\n",
       "freq         1      1       1          1       1"
      ]
     },
     "execution_count": 16,
     "metadata": {},
     "output_type": "execute_result"
    }
   ],
   "source": [
    "store_suggestion.describe()"
   ]
  },
  {
   "cell_type": "code",
   "execution_count": null,
   "id": "9e73cc5c",
   "metadata": {},
   "outputs": [],
   "source": [
    "store_suggestion.to_excel('E:\\KULIAH\\Semester 6\\DATA MINING\\data_output.xlsx')"
   ]
  }
 ],
 "metadata": {
  "kernelspec": {
   "display_name": "Python 3 (ipykernel)",
   "language": "python",
   "name": "python3"
  },
  "language_info": {
   "codemirror_mode": {
    "name": "ipython",
    "version": 3
   },
   "file_extension": ".py",
   "mimetype": "text/x-python",
   "name": "python",
   "nbconvert_exporter": "python",
   "pygments_lexer": "ipython3",
   "version": "3.9.7"
  }
 },
 "nbformat": 4,
 "nbformat_minor": 5
}
